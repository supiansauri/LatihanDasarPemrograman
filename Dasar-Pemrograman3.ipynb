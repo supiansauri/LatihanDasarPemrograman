{
 "cells": [
  {
   "cell_type": "markdown",
   "id": "46521731",
   "metadata": {},
   "source": [
    "## Dasar Pemrograman 3\n",
    "### 1. jenis - jenis tipe data dan contoh tipe data menggunakan Bahasa pemrograman\n",
    "\n",
    "1. `Boolean` menyatakan benar True yang bernilai 1, atau salah False yang bernilai 0\n",
    "2. `String` menyatakan karakter/kalimat bisa berupa huruf, angka yang diapit oleh tanda \" atau ' contohnya \"ayo jajan\"\n",
    "3. `Integer` menyatakan bilangan bulat contohnya 20 atau 110\n",
    "4. `Float` menyatakan bilangan yang mempunyai koma contohnya 3, 12 atau 9,99\n",
    "5. `Hexadecimal` menyatakan bilangan dalam format heksa (bilangan berbasis 16) contohnya 9a atau 1d3\n",
    "6. `complex` menyatakan pasangan angka real dan imajiner contohnya 1 + 5j\n",
    "7. `list` data untaian yang menyimpan berbagai tipe data dan isinya bisa diubah-ubah contohnya ['xyz', 786, 2.13]\n",
    "8. `Tuple` data untain yang menyimpan berbagai tipe data tapi isinya tidak bisa diubah ('xyz', 786, 2.23)\n",
    "9. `Dictionary` data untaian yang menyimpan berbagai tipe data berupa pasangan penunjuk dan nilai contohnya {'nama':'Supian','id':}"
   ]
  },
  {
   "cell_type": "code",
   "execution_count": 3,
   "id": "e9554b23",
   "metadata": {},
   "outputs": [
    {
     "name": "stdout",
     "output_type": "stream",
     "text": [
      "True\n",
      "halo saya Supian\n",
      "jurusan Teknik Informatika\n",
      "20\n",
      "3 12\n",
      "154\n",
      "5j\n",
      "1 2 3 4 5\n",
      "['satu', 'dua', 'tiga']\n",
      "(1, 2, 3, 4, 5)\n",
      "('satu', 'dua', 'tiga')\n",
      "{'nama': 'Supian', 'umur': 18}\n",
      "{'nama': 'Supian Sauri', 'umur': 18}\n",
      "<class 'dict'>\n"
     ]
    }
   ],
   "source": [
    "#tipe data Boolean\n",
    "print(True)\n",
    "\n",
    "#tipe data String\n",
    "print(\"halo saya Supian\")\n",
    "print('jurusan Teknik Informatika')\n",
    "\n",
    "#tipe data Integer\n",
    "print(20)\n",
    "\n",
    "#tipe data Float\n",
    "print(3, 12)\n",
    "\n",
    "#tipe data Hexadecimal\n",
    "print(0x9a)\n",
    "\n",
    "#tipe data Complex\n",
    "print(5j)\n",
    "\n",
    "#tipe data list\n",
    "print(1, 2, 3, 4, 5)\n",
    "print([\"satu\", \"dua\", \"tiga\"])\n",
    "\n",
    "#tipe data Tuple\n",
    "print((1,2,3,4,5))\n",
    "print((\"satu\", \"dua\", \"tiga\"))\n",
    "\n",
    "#tipe data Dictionary\n",
    "print({\"nama\":\"Supian\", 'umur':18})\n",
    "#tipe data Dictionary dimasukan ke dalam variabel biodata\n",
    "biodata = {\"nama\":\"Supian Sauri\", 'umur':18} #proses inisialisasi variabel biodata\n",
    "print(biodata) #proses pencetakan variabel biodata yang berisi tipe data Dictionary\n",
    "print(type(biodata)) #fungsi untuk mengecek jenis tipe data .akan tampil <class 'dict'> yang berarti dict adalah tipe data dictionary\n"
   ]
  },
  {
   "cell_type": "markdown",
   "id": "5d49348c",
   "metadata": {},
   "source": [
    "### 2. Program menampilkan Nama, Nomor Telepon, NIM"
   ]
  },
  {
   "cell_type": "code",
   "execution_count": 4,
   "id": "98c6691c",
   "metadata": {},
   "outputs": [
    {
     "name": "stdout",
     "output_type": "stream",
     "text": [
      "Supian Sauri\n",
      "0815 0050 7505\n",
      "20220040059\n"
     ]
    }
   ],
   "source": [
    "#Nama\n",
    "print(\"Supian Sauri\")\n",
    "\n",
    "#Nomor Telepon\n",
    "print(\"0815 0050 7505\")\n",
    "\n",
    "#NIM\n",
    "print(\"20220040059\")"
   ]
  },
  {
   "cell_type": "markdown",
   "id": "86950cf2",
   "metadata": {},
   "source": [
    "### 3. Program penjumlahan dan pengurangan"
   ]
  },
  {
   "cell_type": "code",
   "execution_count": 7,
   "id": "28cb8e03",
   "metadata": {},
   "outputs": [
    {
     "name": "stdout",
     "output_type": "stream",
     "text": [
      "7800\n"
     ]
    }
   ],
   "source": [
    "#membuat sebuah pemrograman sederhana hasil dari (angka1+500)+(angka2+500)-200\n",
    "#diketahui angka1 = 5000, angka2 = 2000 dan angka3 = 200\n",
    "\n",
    "angka1 = 5000\n",
    "angka2 = 2000\n",
    "angka3 = 200\n",
    "\n",
    "angka1 += 500\n",
    "angka2 += 500\n",
    "\n",
    "hasil = angka1 + angka2 - angka3\n",
    "print(hasil)"
   ]
  },
  {
   "cell_type": "markdown",
   "id": "b9f51d18",
   "metadata": {},
   "source": [
    "### 4. Program mencari keliling lingkaran dan volume kubus"
   ]
  },
  {
   "cell_type": "code",
   "execution_count": 9,
   "id": "799809f9",
   "metadata": {},
   "outputs": [
    {
     "name": "stdout",
     "output_type": "stream",
     "text": [
      "masukan jari-jari:14\n",
      "jari-jari: 14.0\n",
      "hasil adalah: 19.14\n"
     ]
    }
   ],
   "source": [
    "#mencari keliling lingkaran \n",
    "phi = 3.14\n",
    "r = float(input(\"masukan jari-jari:\"))\n",
    "print(f\"jari-jari: {r}\")\n",
    "\n",
    "hasil = 2 + phi + r\n",
    "print(f\"hasil adalah: {hasil}\")"
   ]
  },
  {
   "cell_type": "code",
   "execution_count": 10,
   "id": "59d51fd5",
   "metadata": {},
   "outputs": [
    {
     "name": "stdout",
     "output_type": "stream",
     "text": [
      "masukan panjang sisi: 4\n",
      "sisi-sisi: 4.0\n",
      "hasilnya adalah: 64.0\n"
     ]
    }
   ],
   "source": [
    "#mencari volume kubus\n",
    "s = float(input(\"masukan panjang sisi: \"))\n",
    "print(f\"sisi-sisi: {s}\")\n",
    "\n",
    "hasil = s * s * s\n",
    "print(f\"hasilnya adalah: {hasil}\")"
   ]
  },
  {
   "cell_type": "code",
   "execution_count": null,
   "id": "73bd4c0b",
   "metadata": {},
   "outputs": [],
   "source": []
  }
 ],
 "metadata": {
  "kernelspec": {
   "display_name": "Python 3 (ipykernel)",
   "language": "python",
   "name": "python3"
  },
  "language_info": {
   "codemirror_mode": {
    "name": "ipython",
    "version": 3
   },
   "file_extension": ".py",
   "mimetype": "text/x-python",
   "name": "python",
   "nbconvert_exporter": "python",
   "pygments_lexer": "ipython3",
   "version": "3.9.12"
  }
 },
 "nbformat": 4,
 "nbformat_minor": 5
}
